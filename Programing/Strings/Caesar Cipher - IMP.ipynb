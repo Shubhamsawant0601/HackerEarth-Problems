{
 "cells": [
  {
   "cell_type": "markdown",
   "id": "8f131244",
   "metadata": {},
   "source": []
  },
  {
   "cell_type": "code",
   "execution_count": 19,
   "id": "15d1d414",
   "metadata": {},
   "outputs": [],
   "source": [
    "def caesarCipher(s, k):  \n",
    "    s = list(s)\n",
    "    \n",
    "    for i in range(len(s)):\n",
    "        s[i] = change(s[i], k)\n",
    "        \n",
    "    return (\"\".join(s))\n",
    "    \n",
    "    \n",
    "def change(ch, k):\n",
    "    lower = [chr(i) for i in range(97, 123)]\n",
    "    upper = [chr(i) for i in range(65, 91)]\n",
    "    \n",
    "    if ch in lower:\n",
    "        return lower[(lower.index(ch)+k)%len(lower)]\n",
    "    \n",
    "    if ch in upper:\n",
    "        return upper[(upper.index(ch)+k)%len(upper)]\n",
    "    \n",
    "    return ch\n",
    "    \n",
    "    \n",
    "    \n",
    "    \n",
    "    "
   ]
  },
  {
   "cell_type": "code",
   "execution_count": null,
   "id": "95bbd45a",
   "metadata": {},
   "outputs": [],
   "source": []
  }
 ],
 "metadata": {
  "kernelspec": {
   "display_name": "Python 3 (ipykernel)",
   "language": "python",
   "name": "python3"
  },
  "language_info": {
   "codemirror_mode": {
    "name": "ipython",
    "version": 3
   },
   "file_extension": ".py",
   "mimetype": "text/x-python",
   "name": "python",
   "nbconvert_exporter": "python",
   "pygments_lexer": "ipython3",
   "version": "3.9.6"
  }
 },
 "nbformat": 4,
 "nbformat_minor": 5
}
